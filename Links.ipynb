{
 "metadata": {
  "name": "",
  "signature": "sha256:afb3173046de3dec8112d6785b072b11d711f6e1b2460e2f29cb1a909d48a62e"
 },
 "nbformat": 3,
 "nbformat_minor": 0,
 "worksheets": [
  {
   "cells": [
    {
     "cell_type": "code",
     "collapsed": false,
     "input": [
      "import json\n",
      "d = json.load(open('export.json'))"
     ],
     "language": "python",
     "metadata": {},
     "outputs": [],
     "prompt_number": 98
    },
    {
     "cell_type": "code",
     "collapsed": false,
     "input": [
      "def m_s(xs, k):\n",
      "    return {x[k]: x for x in xs}"
     ],
     "language": "python",
     "metadata": {},
     "outputs": [],
     "prompt_number": 99
    },
    {
     "cell_type": "markdown",
     "metadata": {},
     "source": [
      "### Check email addresses look valid"
     ]
    },
    {
     "cell_type": "code",
     "collapsed": false,
     "input": [
      "for c in d['persons']:\n",
      "    if c.get('email'):\n",
      "        if '@' not in c['email'].lower():\n",
      "            print c['email'], c['name'], \"https://yournextmp.com/person/{}\".format(c['id']) "
     ],
     "language": "python",
     "metadata": {},
     "outputs": [],
     "prompt_number": 100
    },
    {
     "cell_type": "markdown",
     "metadata": {},
     "source": [
      "### Check that Facebook pages start with \"https://www.facebook.com\" or \"http://www.facebook.com\""
     ]
    },
    {
     "cell_type": "code",
     "collapsed": false,
     "input": [
      "facebook_prefixes = [\"https://www.facebook.com\",\n",
      "                     \"http://www.facebook.com\",\n",
      "                     \"https://facebook.com\",\n",
      "                     \"http://facebook.com\",]\n",
      "\n",
      "for c in d['persons']:\n",
      "    links = m_s(c['links'], 'note')\n",
      "    \n",
      "    if 'facebook page' in links:\n",
      "        url = links['facebook page']['url']\n",
      "        if not any([url.startswith(x) for x in facebook_prefixes]):\n",
      "            print c['name'], \"https://yournextmp.com/person/{}\".format(c['id']), links['facebook page']['url']\n",
      "            "
     ],
     "language": "python",
     "metadata": {},
     "outputs": [
      {
       "output_type": "stream",
       "stream": "stdout",
       "text": [
        "Jacob Young https://yournextmp.com/person/5212 https://www.Facebook.com/JacobForRedcar\n",
        "Alan Armstrong https://yournextmp.com/person/5744 https://m.facebook.com/GreenValeofGlamorgan\n",
        "Emily Lawrence https://yournextmp.com/person/7103 https://m.facebook.com/emilyforswbeds\n",
        "Peter Smith https://yournextmp.com/person/3513 http://www.labour4norfolk.org.uk/\n",
        "Richard Shattock https://yournextmp.com/person/6776 https://m.facebook.com/richard4welwynhatfieldmp?ref=bookmark\n"
       ]
      }
     ],
     "prompt_number": 105
    },
    {
     "cell_type": "markdown",
     "metadata": {},
     "source": [
      "### Check that the Facebook profile link and Facebook page link aren't the same"
     ]
    },
    {
     "cell_type": "code",
     "collapsed": false,
     "input": [
      "for c in d['persons']:\n",
      "    links = m_s(c['links'], 'note')\n",
      "    \n",
      "    if 'facebook page' in links and 'facebook personal' in links:\n",
      "        url1 = links['facebook page']['url'].split('?')[0]\n",
      "        url2 = links['facebook personal']['url'].split('?')[0]\n",
      "        \n",
      "        if url1.lower() == url2.lower():\n",
      "            print c['name'], \"https://yournextmp.com/person/{}\".format(c['id']), links['facebook page']['url']\n",
      "            "
     ],
     "language": "python",
     "metadata": {},
     "outputs": [
      {
       "output_type": "stream",
       "stream": "stdout",
       "text": [
        "Mark Rosenthal https://yournextmp.com/person/5917 https://www.facebook.com/pages/Mark-Rosenthal-LibDem-Candidate-for-Ynys-Mon/365471076987731\n",
        "Jacob Young https://yournextmp.com/person/5212 https://www.Facebook.com/JacobForRedcar\n",
        "Ken Guest https://yournextmp.com/person/5549 https://www.facebook.com/KGuestUKIP\n",
        "Graeme Currie https://yournextmp.com/person/4392 https://facebook.com/graemecurrie2015\n",
        "Alan England https://yournextmp.com/person/5819 https://www.facebook.com/Alan.England.English.Democrats\n",
        "Martin Horwood https://yournextmp.com/person/622 https://www.facebook.com/pages/Martin-Horwood-for-Cheltenham/39332914673?sk=timeline\n",
        "John Howell https://yournextmp.com/person/1682 https://www.facebook.com/john.howellmp?fref=ts\n",
        "Paul Maynard https://yournextmp.com/person/1176 https://www.facebook.com/paulmaynardBNC?fref=ts\n",
        "Dan Jarvis https://yournextmp.com/person/5266 http://www.facebook.com/dowjarvis\n",
        "Emily Lawrence https://yournextmp.com/person/7103 https://m.facebook.com/emilyforswbeds\n",
        "Mary Macleod https://yournextmp.com/person/2550 https://www.facebook.com/MaryMacleod?fref=ts\n",
        "Phil Boswell https://yournextmp.com/person/6281 https://www.facebook.com/PhilBoswellSNP\n",
        "Tim Ireland https://yournextmp.com/person/6893 https://www.facebook.com/midbedfordshire\n",
        "Simon Thomas https://yournextmp.com/person/7130 https://www.facebook.com/elancstusc\n"
       ]
      }
     ],
     "prompt_number": 107
    }
   ],
   "metadata": {}
  }
 ]
}
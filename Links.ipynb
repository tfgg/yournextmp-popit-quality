{
 "metadata": {
  "name": "",
  "signature": "sha256:a98b7a96049059295ba9e425478eaa8686c45e07d910c1c38d09dcc14814a982"
 },
 "nbformat": 3,
 "nbformat_minor": 0,
 "worksheets": [
  {
   "cells": [
    {
     "cell_type": "code",
     "collapsed": false,
     "input": [
      "import json\n",
      "d = json.load(open('data/export.json'))"
     ],
     "language": "python",
     "metadata": {},
     "outputs": [],
     "prompt_number": 1
    },
    {
     "cell_type": "code",
     "collapsed": false,
     "input": [
      "def m_s(xs, k):\n",
      "    return {x[k]: x for x in xs}"
     ],
     "language": "python",
     "metadata": {},
     "outputs": [],
     "prompt_number": 2
    },
    {
     "cell_type": "markdown",
     "metadata": {},
     "source": [
      "### Check email addresses look valid"
     ]
    },
    {
     "cell_type": "code",
     "collapsed": false,
     "input": [
      "for c in d['persons']:\n",
      "    if c.get('email'):\n",
      "        if '@' not in c['email'].lower():\n",
      "            print c['email'], c['name'], \"https://yournextmp.com/person/{}\".format(c['id']) "
     ],
     "language": "python",
     "metadata": {},
     "outputs": [],
     "prompt_number": 3
    },
    {
     "cell_type": "markdown",
     "metadata": {},
     "source": [
      "### Check that Facebook pages start with \"https://www.facebook.com\" or \"http://www.facebook.com\""
     ]
    },
    {
     "cell_type": "code",
     "collapsed": false,
     "input": [
      "facebook_prefixes = [\"https://www.facebook.com\",\n",
      "                     \"http://www.facebook.com\",\n",
      "                     \"https://facebook.com\",\n",
      "                     \"http://facebook.com\",]\n",
      "\n",
      "for c in d['persons']:\n",
      "    links = m_s(c['links'], 'note')\n",
      "    \n",
      "    if 'facebook page' in links:\n",
      "        url = links['facebook page']['url']\n",
      "        if not any([url.startswith(x) for x in facebook_prefixes]):\n",
      "            print c['name'], \"https://yournextmp.com/person/{}\".format(c['id']), links['facebook page']['url']\n",
      "            "
     ],
     "language": "python",
     "metadata": {},
     "outputs": [
      {
       "output_type": "stream",
       "stream": "stdout",
       "text": [
        "Marc Fothergill https://yournextmp.com/person/7090 https://m.facebook.com/greenmarcfothergill\n"
       ]
      }
     ],
     "prompt_number": 4
    },
    {
     "cell_type": "markdown",
     "metadata": {},
     "source": [
      "### Check that the Facebook profile link and Facebook page link aren't the same"
     ]
    },
    {
     "cell_type": "code",
     "collapsed": false,
     "input": [
      "for c in d['persons']:\n",
      "    links = m_s(c['links'], 'note')\n",
      "    \n",
      "    if 'facebook page' in links and 'facebook personal' in links:\n",
      "        url1 = links['facebook page']['url'].split('?')[0]\n",
      "        url2 = links['facebook personal']['url'].split('?')[0]\n",
      "        \n",
      "        if url1.lower() == url2.lower():\n",
      "            print c['name'], \"https://yournextmp.com/person/{}\".format(c['id']), links['facebook page']['url']\n",
      "            "
     ],
     "language": "python",
     "metadata": {},
     "outputs": [],
     "prompt_number": 5
    }
   ],
   "metadata": {}
  }
 ]
}
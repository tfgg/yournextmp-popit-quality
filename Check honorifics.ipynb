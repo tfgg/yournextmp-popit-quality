{
 "metadata": {
  "name": "",
  "signature": "sha256:22bbe2816c266026d18fca9b6d9ae68ad8a125b7cbda547a333b3214865cb5b3"
 },
 "nbformat": 3,
 "nbformat_minor": 0,
 "worksheets": [
  {
   "cells": [
    {
     "cell_type": "code",
     "collapsed": false,
     "input": [
      "import json\n",
      "d = json.load(open('export.json'))"
     ],
     "language": "python",
     "metadata": {},
     "outputs": [],
     "prompt_number": 20
    },
    {
     "cell_type": "code",
     "collapsed": false,
     "input": [
      "known_titles = {None, 'Dr', 'Mr', 'Mrs', 'Ms', 'Prof', 'Cllr', 'Miss', 'Sir', 'Rt Hon.', 'Lord', 'Councillor', 'Professor'}"
     ],
     "language": "python",
     "metadata": {},
     "outputs": [],
     "prompt_number": 21
    },
    {
     "cell_type": "code",
     "collapsed": false,
     "input": [
      "for p in d['persons']:\n",
      "    prefix = p.get('honorific_prefix', None)\n",
      "    \n",
      "    if prefix not in known_titles:\n",
      "        print prefix, p['name'], \"https://yournextmp.com/person/{}\".format(p['id'])"
     ],
     "language": "python",
     "metadata": {},
     "outputs": [
      {
       "output_type": "stream",
       "stream": "stdout",
       "text": [
        "Alderman Bob Stoker https://yournextmp.com/person/6135\n",
        "Crucial Chris Dowling https://yournextmp.com/person/6916\n",
        "Freeman Jonathan Bishop Dzon https://yournextmp.com/person/5769\n",
        "Rev Dr William McCrea https://yournextmp.com/person/1855\n",
        "Cpt Malcolm Shakesby https://yournextmp.com/person/6815\n",
        "Cllr Dr Wendy Taylor https://yournextmp.com/person/4028\n",
        "Rev Jonathan Richard Clatworthy https://yournextmp.com/person/4631\n",
        "King Arthur Pendragon https://yournextmp.com/person/1195\n",
        "Pastor Gabriel Ukandu https://yournextmp.com/person/6736\n"
       ]
      }
     ],
     "prompt_number": 22
    },
    {
     "cell_type": "code",
     "collapsed": false,
     "input": [
      "for p in d['persons']:\n",
      "    suffix = p.get('honorific_suffix', None)\n",
      "    \n",
      "    if suffix is not None:\n",
      "        print p['name'], suffix, \"https://yournextmp.com/person/{}\".format(p['id'])"
     ],
     "language": "python",
     "metadata": {},
     "outputs": [
      {
       "output_type": "stream",
       "stream": "stdout",
       "text": [
        "Jonathan Ingleby MA, BD, PhD https://yournextmp.com/person/4611\n",
        "Dean Russell BSc(Hons) MPhil FRSA https://yournextmp.com/person/5039\n",
        "Terry Stacy  MBE JP https://yournextmp.com/person/4505\n",
        "Loraine Morgan-Brinkhurst MBE https://yournextmp.com/person/5932\n",
        "Keir Starmer KCB, QC https://yournextmp.com/person/5077\n",
        "Bruce Roberts BSc BA FCA https://yournextmp.com/person/2441\n",
        "Tristram Hunt FRHistS https://yournextmp.com/person/431\n",
        "Darrin Green DipSW, BA (Hons) https://yournextmp.com/person/4764\n",
        "Ming Campbell CH CBE QC https://yournextmp.com/person/637\n",
        "John Whittingdale OBE https://yournextmp.com/person/765\n",
        "Richard Short CMCIEH https://yournextmp.com/person/5070\n",
        "Claire Jeffrey BA (Hons) https://yournextmp.com/person/4835\n",
        "Rachel Featherstone BA MA https://yournextmp.com/person/6271\n",
        "Joseph Bourke FCCA https://yournextmp.com/person/1588\n",
        "Chris Davis MBE https://yournextmp.com/person/4793\n",
        "Chris von Ruhland PhD https://yournextmp.com/person/5330\n",
        "David Flint B.Sc., MBCS, FIMC, CMC https://yournextmp.com/person/4618\n",
        "Jonathan Bishop Dzon BSc(Hons), MSc, MScEcon, LLM, FRAI, FRSA, FRSS, FCLIP, FBCS CITP https://yournextmp.com/person/5769\n",
        "Andy Collins MMRS https://yournextmp.com/person/6078\n",
        "Stewart Blackmore MIH https://yournextmp.com/person/4362\n",
        "Oliver Letwin FRSA https://yournextmp.com/person/2256\n",
        "Richard Taylor MBE FRCP https://yournextmp.com/person/3237\n",
        "Geoff Garbett B.Ed, M.Sc, MA, PhD https://yournextmp.com/person/5410\n",
        "Ashuk Ahmed MBE https://yournextmp.com/person/6385\n",
        "Gemma Doyle MP https://yournextmp.com/person/810\n",
        "Andrew Garcarz MIHM https://yournextmp.com/person/6127\n",
        "David Hollas MBE https://yournextmp.com/person/4672\n",
        "Richard Lawson MB BS, MRCPsych  https://yournextmp.com/person/6037\n",
        "Alex Johnstone MSP https://yournextmp.com/person/6565\n",
        "Laurence Williams Eng Tech MIET https://yournextmp.com/person/6615\n",
        "David Gallagher PhD Mst (Oxon) MA (Cantab) FCII LLB Chartered Insurer https://yournextmp.com/person/5762\n",
        "Clive Kenneth Semmens B.Sc. B.A. https://yournextmp.com/person/4759\n",
        "Guy Hudson BSc https://yournextmp.com/person/6746\n",
        "Malcolm Shakesby MBE https://yournextmp.com/person/6815\n",
        "Julia Reid PhD MEP https://yournextmp.com/person/312\n",
        "Paul Hobday MBBS FRCGP DRCOG DFSRH DPM https://yournextmp.com/person/4717\n",
        "John Tait PhD CEng https://yournextmp.com/person/6025\n",
        "Michael Frost PPC https://yournextmp.com/person/6683\n",
        "Leslie Rowe MBA FCCA https://yournextmp.com/person/3986\n",
        "Joanna Cherry QC https://yournextmp.com/person/5912\n",
        "Owen Hammond (Flt.Lt.RAFret.) https://yournextmp.com/person/6890\n",
        "Chris Gallacher TD https://yournextmp.com/person/4570\n",
        "Jonathan Tyler BA, CMILT https://yournextmp.com/person/4910\n",
        "Niall Pettitt AMIEnvSci https://yournextmp.com/person/4649\n",
        "Wendy Taylor MBE https://yournextmp.com/person/4028\n",
        "Paul Woodhead MSc, FCIWM https://yournextmp.com/person/6894\n",
        "Chris Hodgson BSc https://yournextmp.com/person/5310\n",
        "Dan Jarvis MBE https://yournextmp.com/person/5266\n",
        "Gordon Lishman CBE https://yournextmp.com/person/6022\n",
        "Gwyn Williams BSc Hons https://yournextmp.com/person/6326\n",
        "Michael Patrick Gerard MSc, PGDipLaw, PGDipBar https://yournextmp.com/person/6644\n",
        "Matthew Offord FRGS https://yournextmp.com/person/1323\n",
        "Mario May SGDJ https://yournextmp.com/person/5393\n",
        "Pete Bruce FRAeS, MIMechE, CEng https://yournextmp.com/person/6024\n",
        "Anthony Smith Bsc (Hons) https://yournextmp.com/person/4898\n",
        "Phil Boswell BSc Dip Arb FCIArb. https://yournextmp.com/person/6281\n",
        "Jonathan Starkey M.A. (Dist.) https://yournextmp.com/person/2845\n",
        "Donald MacLeod Boyd M.B.Ch.B. https://yournextmp.com/person/3580\n",
        "Donald Cole JP https://yournextmp.com/person/6718\n",
        "Damon Boughen BA (Hons), MA https://yournextmp.com/person/6945\n",
        "George Whale BA (Hons), MA, PhD https://yournextmp.com/person/6971\n",
        "Graham Reed BA FBSSG MBSSG https://yournextmp.com/person/6407\n",
        "John Stocker MBE https://yournextmp.com/person/4988\n",
        "Neil Humphrey BSc ARCS https://yournextmp.com/person/7112\n",
        "Jonathan Richard Clatworthy M Phil https://yournextmp.com/person/4631\n",
        "John Allman - Let every child have both parents https://yournextmp.com/person/7291\n",
        "David James BSc.Mech.Eng.Hons https://yournextmp.com/person/1996\n",
        "Steve Reed MSc https://yournextmp.com/person/7229\n",
        "Huw Bell BSc (Hons) https://yournextmp.com/person/4216\n",
        "John Poynton BSc. FCA https://yournextmp.com/person/5961\n",
        "Celia Hickson JP https://yournextmp.com/person/5112\n"
       ]
      }
     ],
     "prompt_number": 19
    }
   ],
   "metadata": {}
  }
 ]
}
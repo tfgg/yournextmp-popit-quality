{
 "metadata": {
  "name": "",
  "signature": "sha256:228977a648cea5eac61591205e1b8a235cef1e4074c688588442e00454147538"
 },
 "nbformat": 3,
 "nbformat_minor": 0,
 "worksheets": []
}